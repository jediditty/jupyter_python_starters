{
 "cells": [
  {
   "cell_type": "markdown",
   "metadata": {},
   "source": [
    "# Python 101\n",
    "\n",
    "#### Anacaonda (easiest way to install python on windows) - https://www.anaconda.com\n",
    "#### python terminal in the browser - https://www.pythonanywhere.com/\n",
    "\n",
    "* 1989\n",
    "* Guido Van Rossum\n",
    "* dynamically typed (java is statically typed)\n",
    "* strongly typed (javascript is weakly typed)(requires explicit datatype conversions)\n",
    "* scripting/web development/geospatial/data analytics/ML and deeplearning"
   ]
  },
  {
   "cell_type": "code",
   "execution_count": null,
   "metadata": {},
   "outputs": [],
   "source": [
    "# strong type enforcement \n",
    "'x' + 3"
   ]
  },
  {
   "cell_type": "code",
   "execution_count": null,
   "metadata": {},
   "outputs": [],
   "source": [
    "# imports\n",
    "import math\n",
    "import random\n",
    "import os\n",
    "import re\n",
    "from datetime import datetime"
   ]
  },
  {
   "cell_type": "markdown",
   "metadata": {},
   "source": [
    "# Datatypes"
   ]
  },
  {
   "cell_type": "code",
   "execution_count": null,
   "metadata": {},
   "outputs": [],
   "source": [
    "int_variable = 34 # integer/number\n",
    "float_variable = 3.4\n",
    "string_variable = 'some text' # string/text\n",
    "list_variable = [2, 'text', 3, 5]\n",
    "boolean_variable = True # true/false\n",
    "example_tuple = ('this', 'is', 'immutable',)"
   ]
  },
  {
   "cell_type": "code",
   "execution_count": null,
   "metadata": {},
   "outputs": [],
   "source": [
    "# python dictionary\n",
    "super_awesome_dictionary = {\n",
    "    'first': 'jesse',\n",
    "    'last': 'ditto',\n",
    "    'phone': '5555555',\n",
    "    'date': datetime.strptime('Jun 1 2005', '%b %d %Y')\n",
    "}\n",
    "# >3.7 this is now an ordered dictionary by default\n",
    "# prior versions were either unordered or untrusted ordered\n",
    "print(super_awesome_dictionary)"
   ]
  },
  {
   "cell_type": "markdown",
   "metadata": {},
   "source": [
    "### exercise: create variables (string, number, boolean, dictionary)"
   ]
  },
  {
   "cell_type": "code",
   "execution_count": null,
   "metadata": {},
   "outputs": [],
   "source": []
  },
  {
   "cell_type": "markdown",
   "metadata": {},
   "source": [
    "# Commenting"
   ]
  },
  {
   "cell_type": "code",
   "execution_count": null,
   "metadata": {},
   "outputs": [],
   "source": [
    "# this is a single line comment\n",
    "\"\"\" This is a \n",
    "multi line comment\"\"\"\n",
    "''' This is a single quote \n",
    "multiline comment'''"
   ]
  },
  {
   "cell_type": "markdown",
   "metadata": {},
   "source": [
    "# Conditional statements"
   ]
  },
  {
   "cell_type": "code",
   "execution_count": null,
   "metadata": {},
   "outputs": [],
   "source": [
    "if boolean_variable:\n",
    "    print('boolean variable was true')\n",
    "if True:\n",
    "    print('true')"
   ]
  },
  {
   "cell_type": "code",
   "execution_count": null,
   "metadata": {},
   "outputs": [],
   "source": [
    "if boolean_variable is True:\n",
    "    print('boolean variable was true')"
   ]
  },
  {
   "cell_type": "code",
   "execution_count": null,
   "metadata": {},
   "outputs": [],
   "source": [
    "if boolean_variable is not False:\n",
    "    print('Not false')"
   ]
  },
  {
   "cell_type": "code",
   "execution_count": null,
   "metadata": {},
   "outputs": [],
   "source": [
    "if 3 > 2:\n",
    "    print('3 is greater than 2')"
   ]
  },
  {
   "cell_type": "code",
   "execution_count": null,
   "metadata": {},
   "outputs": [],
   "source": [
    "# if else statement\n",
    "if 3 > 4:\n",
    "    print('thats odd')\n",
    "elif 4 > 3:\n",
    "    print('things make sense now')"
   ]
  },
  {
   "cell_type": "markdown",
   "metadata": {},
   "source": [
    "### exercise: finish conditional "
   ]
  },
  {
   "cell_type": "code",
   "execution_count": null,
   "metadata": {},
   "outputs": [],
   "source": [
    "con_1 = \n",
    "con_2 = \n",
    "\n",
    "if > :\n",
    "    print('This is true')"
   ]
  },
  {
   "cell_type": "code",
   "execution_count": null,
   "metadata": {},
   "outputs": [],
   "source": [
    "# for loop\n",
    "for thing in list_variable:\n",
    "    print(thing)"
   ]
  },
  {
   "cell_type": "code",
   "execution_count": null,
   "metadata": {},
   "outputs": [],
   "source": [
    "# loops through an object's attributes\n",
    "for i in super_awesome_dictionary:\n",
    "    print('{0}: {1}'.format(i, super_awesome_dictionary[i]))"
   ]
  },
  {
   "cell_type": "code",
   "execution_count": null,
   "metadata": {
    "collapsed": true
   },
   "outputs": [],
   "source": [
    "# tupples are iterable\n",
    "for i in example_tuple:\n",
    "    print(i)"
   ]
  },
  {
   "cell_type": "code",
   "execution_count": null,
   "metadata": {
    "collapsed": true
   },
   "outputs": [],
   "source": [
    "example_tuple[1] = 'x'"
   ]
  },
  {
   "cell_type": "code",
   "execution_count": null,
   "metadata": {
    "collapsed": true
   },
   "outputs": [],
   "source": [
    "list_from_tuple = list(example_tuple)\n",
    "print(list_from_tuple)\n",
    "list_from_tuple[1] = 2\n",
    "print(list_from_tuple)"
   ]
  },
  {
   "cell_type": "markdown",
   "metadata": {},
   "source": [
    "### create star stair loop"
   ]
  },
  {
   "cell_type": "code",
   "execution_count": null,
   "metadata": {},
   "outputs": [],
   "source": [
    "'''\n",
    "*\n",
    "**\n",
    "***\n",
    "****\n",
    "*****\n",
    "'''\n",
    "star = ''\n",
    "for x in range(5):"
   ]
  },
  {
   "cell_type": "markdown",
   "metadata": {},
   "source": [
    "# some math"
   ]
  },
  {
   "cell_type": "code",
   "execution_count": null,
   "metadata": {
    "collapsed": true
   },
   "outputs": [],
   "source": [
    "# addition\n",
    "3+4"
   ]
  },
  {
   "cell_type": "code",
   "execution_count": null,
   "metadata": {
    "collapsed": true
   },
   "outputs": [],
   "source": [
    "# division\n",
    "6 / 3"
   ]
  },
  {
   "cell_type": "code",
   "execution_count": null,
   "metadata": {
    "collapsed": true
   },
   "outputs": [],
   "source": [
    "# multiplication\n",
    "9 * 3"
   ]
  },
  {
   "cell_type": "code",
   "execution_count": null,
   "metadata": {
    "collapsed": true
   },
   "outputs": [],
   "source": [
    "# modulus\n",
    "9 % 2"
   ]
  },
  {
   "cell_type": "code",
   "execution_count": null,
   "metadata": {
    "collapsed": true
   },
   "outputs": [],
   "source": [
    "math.sqrt(16)"
   ]
  },
  {
   "cell_type": "code",
   "execution_count": null,
   "metadata": {
    "collapsed": true
   },
   "outputs": [],
   "source": [
    "math.cos(math.radians(1))"
   ]
  },
  {
   "cell_type": "code",
   "execution_count": null,
   "metadata": {
    "collapsed": true
   },
   "outputs": [],
   "source": [
    "math.degrees(math.pi/2)  "
   ]
  },
  {
   "cell_type": "markdown",
   "metadata": {},
   "source": [
    "## function example(bubble sort)\n",
    "![Image of bubblesort](https://media.giphy.com/media/sJqcl6rWaEEXS/giphy.gif)"
   ]
  },
  {
   "cell_type": "code",
   "execution_count": null,
   "metadata": {
    "collapsed": true
   },
   "outputs": [],
   "source": [
    "# functions\n",
    "# O(n^2)\n",
    "def bubble_sort(passed_list):\n",
    "    # clone variable to protect data\n",
    "    # must use .copy() class function due to variable by reference\n",
    "    cloned_passed_list = passed_list.copy()\n",
    "    for pass_num in range(len(cloned_passed_list)-1,0,-1):\n",
    "        for i in range(pass_num):\n",
    "            if cloned_passed_list[i]>cloned_passed_list[i+1]:\n",
    "                temp = cloned_passed_list[i]\n",
    "                cloned_passed_list[i] = cloned_passed_list[i+1]\n",
    "                cloned_passed_list[i+1] = temp\n",
    "    return cloned_passed_list"
   ]
  },
  {
   "cell_type": "code",
   "execution_count": null,
   "metadata": {
    "collapsed": true
   },
   "outputs": [],
   "source": [
    "# create list of random numbers\n",
    "random_list = []\n",
    "for x in range(100):\n",
    "    random_list.append(random.randint(1, 400))\n",
    "print(random_list)"
   ]
  },
  {
   "cell_type": "code",
   "execution_count": null,
   "metadata": {
    "collapsed": true
   },
   "outputs": [],
   "source": [
    "# function call\n",
    "sorted_random_list = bubble_sort(random_list)\n",
    "print(sorted_random_list)\n",
    "print(random_list)"
   ]
  },
  {
   "cell_type": "markdown",
   "metadata": {},
   "source": [
    "### Create a function that takes a number and returns a string with the number zero-padded so that it is 4 characters. If the number is more than four digits just return the original number as a string. "
   ]
  },
  {
   "cell_type": "code",
   "execution_count": null,
   "metadata": {},
   "outputs": [],
   "source": []
  },
  {
   "cell_type": "code",
   "execution_count": null,
   "metadata": {},
   "outputs": [],
   "source": []
  },
  {
   "cell_type": "code",
   "execution_count": null,
   "metadata": {
    "collapsed": true
   },
   "outputs": [],
   "source": [
    "# classes\n",
    "class pokemon():\n",
    "    \n",
    "    def __init__(self, ctype=None, name=None, size=None):\n",
    "        self.ctype = ctype\n",
    "        self.name = name\n",
    "        self.size = size\n",
    "    \n",
    "    def stats(self):\n",
    "        return f'Type: {self.ctype} | Name: {self.name} | Size: {self.size}'\n",
    "    \n",
    "    def say_hi(self):\n",
    "        return f'My name\\'s {self.name}'\n",
    "    \n",
    "    def give_random_list(self, size=10):\n",
    "        __random_list = []\n",
    "        for x in range(size):\n",
    "            __random_list.append(random.randint(1, 400))\n",
    "        return __random_list"
   ]
  },
  {
   "cell_type": "code",
   "execution_count": null,
   "metadata": {
    "collapsed": true
   },
   "outputs": [],
   "source": [
    "ditto = pokemon('Ditto', 'schwifty', 'xs')"
   ]
  },
  {
   "cell_type": "code",
   "execution_count": null,
   "metadata": {
    "collapsed": true
   },
   "outputs": [],
   "source": [
    "ditto"
   ]
  },
  {
   "cell_type": "code",
   "execution_count": null,
   "metadata": {
    "collapsed": true
   },
   "outputs": [],
   "source": [
    "ditto.name"
   ]
  },
  {
   "cell_type": "code",
   "execution_count": null,
   "metadata": {
    "collapsed": true
   },
   "outputs": [],
   "source": [
    "# class function\n",
    "print(ditto.stats())"
   ]
  },
  {
   "cell_type": "code",
   "execution_count": null,
   "metadata": {
    "collapsed": true
   },
   "outputs": [],
   "source": [
    "ditto.say_hi()"
   ]
  },
  {
   "cell_type": "code",
   "execution_count": null,
   "metadata": {
    "collapsed": true
   },
   "outputs": [],
   "source": [
    "# default parameter example\n",
    "print(ditto.give_random_list())"
   ]
  },
  {
   "cell_type": "code",
   "execution_count": null,
   "metadata": {
    "collapsed": true
   },
   "outputs": [],
   "source": [
    "print(ditto.give_random_list(20))"
   ]
  },
  {
   "cell_type": "code",
   "execution_count": null,
   "metadata": {
    "collapsed": true
   },
   "outputs": [],
   "source": [
    "# os commands"
   ]
  },
  {
   "cell_type": "code",
   "execution_count": null,
   "metadata": {
    "collapsed": true
   },
   "outputs": [],
   "source": [
    "os.path.curdir"
   ]
  },
  {
   "cell_type": "code",
   "execution_count": null,
   "metadata": {
    "collapsed": true
   },
   "outputs": [],
   "source": [
    "os.listdir(\".\")"
   ]
  },
  {
   "cell_type": "code",
   "execution_count": null,
   "metadata": {
    "collapsed": true
   },
   "outputs": [],
   "source": [
    "for root, dirs, files in os.walk('.', topdown=False):\n",
    "    for f in files:\n",
    "        print(os.path.join(root, f))"
   ]
  },
  {
   "cell_type": "code",
   "execution_count": null,
   "metadata": {
    "collapsed": true
   },
   "outputs": [],
   "source": [
    "# cli commands from within python script\n",
    "# subprocess is also available and a bit more powerfull \n",
    "# https://docs.python.org/2/library/subprocess.html\n",
    "os.system('touch file_created_from_python.txt')"
   ]
  },
  {
   "cell_type": "code",
   "execution_count": null,
   "metadata": {},
   "outputs": [],
   "source": [
    "os.cpu_count()"
   ]
  },
  {
   "cell_type": "code",
   "execution_count": null,
   "metadata": {},
   "outputs": [],
   "source": []
  }
 ],
 "metadata": {
  "kernelspec": {
   "display_name": "Python 3",
   "language": "python",
   "name": "python3"
  },
  "language_info": {
   "codemirror_mode": {
    "name": "ipython",
    "version": 3
   },
   "file_extension": ".py",
   "mimetype": "text/x-python",
   "name": "python",
   "nbconvert_exporter": "python",
   "pygments_lexer": "ipython3",
   "version": "3.7.3"
  }
 },
 "nbformat": 4,
 "nbformat_minor": 2
}
