{
 "cells": [
  {
   "cell_type": "markdown",
   "metadata": {},
   "source": [
    "# scikit-learn\n",
    "https://scikit-learn.org/stable/index.html\n",
    "\n",
    "Machine learning in python\n",
    "![alt text](https://scikit-learn.org/stable/_static/ml_map.png \"algo cheat sheet\")"
   ]
  },
  {
   "cell_type": "code",
   "execution_count": null,
   "metadata": {},
   "outputs": [],
   "source": [
    "%matplotlib inline\n",
    "import numpy as np\n",
    "import pylab as pl\n",
    "from sklearn import neighbors, datasets\n",
    "\n",
    "# import some data to play with\n",
    "iris = datasets.load_iris()\n",
    "X = iris.data[:, :2] # we only take the first two features. \n",
    "Y = iris.target\n",
    "\n",
    "\n",
    "h = .02 # step size in the mesh\n",
    "\n",
    "knn = neighbors.KNeighborsClassifier()\n",
    "\n",
    "# we create an instance of Neighbours Classifier and fit the data.\n",
    "knn.fit(X, Y)"
   ]
  },
  {
   "cell_type": "code",
   "execution_count": null,
   "metadata": {},
   "outputs": [],
   "source": [
    "# Plot the decision boundary. For that, we will asign a color to each\n",
    "# point in the mesh [x_min, m_max]x[y_min, y_max].\n",
    "x_min, x_max = X[:,0].min() - .5, X[:,0].max() + .5\n",
    "y_min, y_max = X[:,1].min() - .5, X[:,1].max() + .5\n",
    "xx, yy = np.meshgrid(np.arange(x_min, x_max, h), np.arange(y_min, y_max, h))\n",
    "\n",
    "Z = knn.predict(np.c_[xx.ravel(), yy.ravel()])"
   ]
  },
  {
   "cell_type": "code",
   "execution_count": null,
   "metadata": {},
   "outputs": [],
   "source": [
    "# Put the result into a color plot\n",
    "Z = Z.reshape(xx.shape)\n",
    "pl.figure(1, figsize=(4, 3))\n",
    "pl.set_cmap(pl.cm.Paired)\n",
    "pl.pcolormesh(xx, yy, Z)\n",
    "\n",
    "# Plot also the training points\n",
    "pl.scatter(X[:,0], X[:,1],c=Y )\n",
    "pl.xlabel('Sepal length')\n",
    "pl.ylabel('Sepal width')\n",
    "\n",
    "pl.xlim(xx.min(), xx.max())\n",
    "pl.ylim(yy.min(), yy.max())\n",
    "pl.xticks(())\n",
    "pl.yticks(())\n",
    "\n",
    "pl.show()"
   ]
  },
  {
   "cell_type": "code",
   "execution_count": null,
   "metadata": {},
   "outputs": [],
   "source": []
  },
  {
   "cell_type": "code",
   "execution_count": null,
   "metadata": {},
   "outputs": [],
   "source": []
  }
 ],
 "metadata": {
  "kernelspec": {
   "display_name": "Python 3",
   "language": "python",
   "name": "python3"
  },
  "language_info": {
   "codemirror_mode": {
    "name": "ipython",
    "version": 3
   },
   "file_extension": ".py",
   "mimetype": "text/x-python",
   "name": "python",
   "nbconvert_exporter": "python",
   "pygments_lexer": "ipython3",
   "version": "3.7.3"
  }
 },
 "nbformat": 4,
 "nbformat_minor": 2
}
