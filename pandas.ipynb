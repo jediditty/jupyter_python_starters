{
 "cells": [
  {
   "cell_type": "markdown",
   "metadata": {},
   "source": [
    "# PANDAS\n",
    "\n",
    "pandas is an open source, BSD-licensed library providing high-performance, easy-to-use data structures and data analysis tools for the Python programming language."
   ]
  },
  {
   "cell_type": "code",
   "execution_count": 1,
   "metadata": {},
   "outputs": [],
   "source": [
    "import numpy as np\n",
    "import pandas as pd"
   ]
  },
  {
   "cell_type": "code",
   "execution_count": 2,
   "metadata": {},
   "outputs": [],
   "source": [
    "# create a pandas series\n",
    "s = pd.Series([1, 3, 5, np.nan, 6, 7])"
   ]
  },
  {
   "cell_type": "code",
   "execution_count": 3,
   "metadata": {},
   "outputs": [
    {
     "data": {
      "text/plain": [
       "0    1.0\n",
       "1    3.0\n",
       "2    5.0\n",
       "3    NaN\n",
       "4    6.0\n",
       "5    7.0\n",
       "dtype: float64"
      ]
     },
     "execution_count": 3,
     "metadata": {},
     "output_type": "execute_result"
    }
   ],
   "source": [
    "s"
   ]
  },
  {
   "cell_type": "code",
   "execution_count": 4,
   "metadata": {},
   "outputs": [
    {
     "data": {
      "text/plain": [
       "(6,)"
      ]
     },
     "execution_count": 4,
     "metadata": {},
     "output_type": "execute_result"
    }
   ],
   "source": [
    "s.shape"
   ]
  },
  {
   "cell_type": "code",
   "execution_count": 5,
   "metadata": {},
   "outputs": [
    {
     "name": "stdout",
     "output_type": "stream",
     "text": [
      "DatetimeIndex(['2013-01-01', '2013-01-02', '2013-01-03', '2013-01-04',\n",
      "               '2013-01-05', '2013-01-06'],\n",
      "              dtype='datetime64[ns]', freq='D')\n"
     ]
    }
   ],
   "source": [
    "# create a range of dates, date provided is start date, periods increments by day\n",
    "dates = pd.date_range('20130101', periods=6)\n",
    "print(dates)"
   ]
  },
  {
   "cell_type": "code",
   "execution_count": 6,
   "metadata": {},
   "outputs": [
    {
     "name": "stdout",
     "output_type": "stream",
     "text": [
      "                   A         B         C         D\n",
      "2013-01-01  0.816414  0.241281  1.259946  0.563317\n",
      "2013-01-02 -1.004928  1.039068 -1.062491  0.495044\n",
      "2013-01-03 -0.011139 -1.235460  0.463615 -0.019130\n",
      "2013-01-04 -1.209340  0.320708 -1.750841  0.288654\n",
      "2013-01-05  0.510095 -0.840999 -2.061217  0.881860\n",
      "2013-01-06  0.028280 -2.540471 -0.537396 -0.118283\n"
     ]
    }
   ],
   "source": [
    "# create a dataframe from random data using the dates variable created earlier as the index\n",
    "df = pd.DataFrame(np.random.randn(6, 4), index=dates, columns=list('ABCD'))\n",
    "print (df)"
   ]
  },
  {
   "cell_type": "code",
   "execution_count": 7,
   "metadata": {},
   "outputs": [
    {
     "data": {
      "text/html": [
       "<div>\n",
       "<style scoped>\n",
       "    .dataframe tbody tr th:only-of-type {\n",
       "        vertical-align: middle;\n",
       "    }\n",
       "\n",
       "    .dataframe tbody tr th {\n",
       "        vertical-align: top;\n",
       "    }\n",
       "\n",
       "    .dataframe thead th {\n",
       "        text-align: right;\n",
       "    }\n",
       "</style>\n",
       "<table border=\"1\" class=\"dataframe\">\n",
       "  <thead>\n",
       "    <tr style=\"text-align: right;\">\n",
       "      <th></th>\n",
       "      <th>A</th>\n",
       "      <th>B</th>\n",
       "      <th>C</th>\n",
       "      <th>D</th>\n",
       "    </tr>\n",
       "  </thead>\n",
       "  <tbody>\n",
       "    <tr>\n",
       "      <th>2013-01-01</th>\n",
       "      <td>0.816414</td>\n",
       "      <td>0.241281</td>\n",
       "      <td>1.259946</td>\n",
       "      <td>0.563317</td>\n",
       "    </tr>\n",
       "    <tr>\n",
       "      <th>2013-01-02</th>\n",
       "      <td>-1.004928</td>\n",
       "      <td>1.039068</td>\n",
       "      <td>-1.062491</td>\n",
       "      <td>0.495044</td>\n",
       "    </tr>\n",
       "    <tr>\n",
       "      <th>2013-01-03</th>\n",
       "      <td>-0.011139</td>\n",
       "      <td>-1.235460</td>\n",
       "      <td>0.463615</td>\n",
       "      <td>-0.019130</td>\n",
       "    </tr>\n",
       "    <tr>\n",
       "      <th>2013-01-04</th>\n",
       "      <td>-1.209340</td>\n",
       "      <td>0.320708</td>\n",
       "      <td>-1.750841</td>\n",
       "      <td>0.288654</td>\n",
       "    </tr>\n",
       "    <tr>\n",
       "      <th>2013-01-05</th>\n",
       "      <td>0.510095</td>\n",
       "      <td>-0.840999</td>\n",
       "      <td>-2.061217</td>\n",
       "      <td>0.881860</td>\n",
       "    </tr>\n",
       "    <tr>\n",
       "      <th>2013-01-06</th>\n",
       "      <td>0.028280</td>\n",
       "      <td>-2.540471</td>\n",
       "      <td>-0.537396</td>\n",
       "      <td>-0.118283</td>\n",
       "    </tr>\n",
       "  </tbody>\n",
       "</table>\n",
       "</div>"
      ],
      "text/plain": [
       "                   A         B         C         D\n",
       "2013-01-01  0.816414  0.241281  1.259946  0.563317\n",
       "2013-01-02 -1.004928  1.039068 -1.062491  0.495044\n",
       "2013-01-03 -0.011139 -1.235460  0.463615 -0.019130\n",
       "2013-01-04 -1.209340  0.320708 -1.750841  0.288654\n",
       "2013-01-05  0.510095 -0.840999 -2.061217  0.881860\n",
       "2013-01-06  0.028280 -2.540471 -0.537396 -0.118283"
      ]
     },
     "execution_count": 7,
     "metadata": {},
     "output_type": "execute_result"
    }
   ],
   "source": [
    "df.head(100) # get first 2 records, default is 5"
   ]
  },
  {
   "cell_type": "code",
   "execution_count": 8,
   "metadata": {},
   "outputs": [
    {
     "data": {
      "text/html": [
       "<div>\n",
       "<style scoped>\n",
       "    .dataframe tbody tr th:only-of-type {\n",
       "        vertical-align: middle;\n",
       "    }\n",
       "\n",
       "    .dataframe tbody tr th {\n",
       "        vertical-align: top;\n",
       "    }\n",
       "\n",
       "    .dataframe thead th {\n",
       "        text-align: right;\n",
       "    }\n",
       "</style>\n",
       "<table border=\"1\" class=\"dataframe\">\n",
       "  <thead>\n",
       "    <tr style=\"text-align: right;\">\n",
       "      <th></th>\n",
       "      <th>A</th>\n",
       "      <th>B</th>\n",
       "      <th>C</th>\n",
       "      <th>D</th>\n",
       "    </tr>\n",
       "  </thead>\n",
       "  <tbody>\n",
       "    <tr>\n",
       "      <th>2013-01-05</th>\n",
       "      <td>0.510095</td>\n",
       "      <td>-0.840999</td>\n",
       "      <td>-2.061217</td>\n",
       "      <td>0.881860</td>\n",
       "    </tr>\n",
       "    <tr>\n",
       "      <th>2013-01-06</th>\n",
       "      <td>0.028280</td>\n",
       "      <td>-2.540471</td>\n",
       "      <td>-0.537396</td>\n",
       "      <td>-0.118283</td>\n",
       "    </tr>\n",
       "  </tbody>\n",
       "</table>\n",
       "</div>"
      ],
      "text/plain": [
       "                   A         B         C         D\n",
       "2013-01-05  0.510095 -0.840999 -2.061217  0.881860\n",
       "2013-01-06  0.028280 -2.540471 -0.537396 -0.118283"
      ]
     },
     "execution_count": 8,
     "metadata": {},
     "output_type": "execute_result"
    }
   ],
   "source": [
    "df.tail(2) # get last 2 records, default is 5"
   ]
  },
  {
   "cell_type": "code",
   "execution_count": 9,
   "metadata": {},
   "outputs": [
    {
     "data": {
      "text/plain": [
       "DatetimeIndex(['2013-01-01', '2013-01-02', '2013-01-03', '2013-01-04',\n",
       "               '2013-01-05', '2013-01-06'],\n",
       "              dtype='datetime64[ns]', freq='D')"
      ]
     },
     "execution_count": 9,
     "metadata": {},
     "output_type": "execute_result"
    }
   ],
   "source": [
    "df.index # view indexs"
   ]
  },
  {
   "cell_type": "code",
   "execution_count": 10,
   "metadata": {},
   "outputs": [
    {
     "data": {
      "text/plain": [
       "Index(['A', 'B', 'C', 'D'], dtype='object')"
      ]
     },
     "execution_count": 10,
     "metadata": {},
     "output_type": "execute_result"
    }
   ],
   "source": [
    "df.columns # view available columns"
   ]
  },
  {
   "cell_type": "code",
   "execution_count": 11,
   "metadata": {},
   "outputs": [
    {
     "data": {
      "text/plain": [
       "2013-01-01    0.241281\n",
       "2013-01-02    1.039068\n",
       "2013-01-03   -1.235460\n",
       "2013-01-04    0.320708\n",
       "2013-01-05   -0.840999\n",
       "2013-01-06   -2.540471\n",
       "Freq: D, Name: B, dtype: float64"
      ]
     },
     "execution_count": 11,
     "metadata": {},
     "output_type": "execute_result"
    }
   ],
   "source": [
    "df['B'] # view specific columns"
   ]
  },
  {
   "cell_type": "code",
   "execution_count": 12,
   "metadata": {},
   "outputs": [
    {
     "data": {
      "text/html": [
       "<div>\n",
       "<style scoped>\n",
       "    .dataframe tbody tr th:only-of-type {\n",
       "        vertical-align: middle;\n",
       "    }\n",
       "\n",
       "    .dataframe tbody tr th {\n",
       "        vertical-align: top;\n",
       "    }\n",
       "\n",
       "    .dataframe thead th {\n",
       "        text-align: right;\n",
       "    }\n",
       "</style>\n",
       "<table border=\"1\" class=\"dataframe\">\n",
       "  <thead>\n",
       "    <tr style=\"text-align: right;\">\n",
       "      <th></th>\n",
       "      <th>A</th>\n",
       "      <th>B</th>\n",
       "      <th>C</th>\n",
       "      <th>D</th>\n",
       "    </tr>\n",
       "  </thead>\n",
       "  <tbody>\n",
       "    <tr>\n",
       "      <th>count</th>\n",
       "      <td>6.000000</td>\n",
       "      <td>6.000000</td>\n",
       "      <td>6.000000</td>\n",
       "      <td>6.000000</td>\n",
       "    </tr>\n",
       "    <tr>\n",
       "      <th>mean</th>\n",
       "      <td>-0.145103</td>\n",
       "      <td>-0.502646</td>\n",
       "      <td>-0.614731</td>\n",
       "      <td>0.348577</td>\n",
       "    </tr>\n",
       "    <tr>\n",
       "      <th>std</th>\n",
       "      <td>0.809161</td>\n",
       "      <td>1.297109</td>\n",
       "      <td>1.285829</td>\n",
       "      <td>0.376487</td>\n",
       "    </tr>\n",
       "    <tr>\n",
       "      <th>min</th>\n",
       "      <td>-1.209340</td>\n",
       "      <td>-2.540471</td>\n",
       "      <td>-2.061217</td>\n",
       "      <td>-0.118283</td>\n",
       "    </tr>\n",
       "    <tr>\n",
       "      <th>25%</th>\n",
       "      <td>-0.756480</td>\n",
       "      <td>-1.136845</td>\n",
       "      <td>-1.578754</td>\n",
       "      <td>0.057816</td>\n",
       "    </tr>\n",
       "    <tr>\n",
       "      <th>50%</th>\n",
       "      <td>0.008571</td>\n",
       "      <td>-0.299859</td>\n",
       "      <td>-0.799944</td>\n",
       "      <td>0.391849</td>\n",
       "    </tr>\n",
       "    <tr>\n",
       "      <th>75%</th>\n",
       "      <td>0.389641</td>\n",
       "      <td>0.300851</td>\n",
       "      <td>0.213362</td>\n",
       "      <td>0.546248</td>\n",
       "    </tr>\n",
       "    <tr>\n",
       "      <th>max</th>\n",
       "      <td>0.816414</td>\n",
       "      <td>1.039068</td>\n",
       "      <td>1.259946</td>\n",
       "      <td>0.881860</td>\n",
       "    </tr>\n",
       "  </tbody>\n",
       "</table>\n",
       "</div>"
      ],
      "text/plain": [
       "              A         B         C         D\n",
       "count  6.000000  6.000000  6.000000  6.000000\n",
       "mean  -0.145103 -0.502646 -0.614731  0.348577\n",
       "std    0.809161  1.297109  1.285829  0.376487\n",
       "min   -1.209340 -2.540471 -2.061217 -0.118283\n",
       "25%   -0.756480 -1.136845 -1.578754  0.057816\n",
       "50%    0.008571 -0.299859 -0.799944  0.391849\n",
       "75%    0.389641  0.300851  0.213362  0.546248\n",
       "max    0.816414  1.039068  1.259946  0.881860"
      ]
     },
     "execution_count": 12,
     "metadata": {},
     "output_type": "execute_result"
    }
   ],
   "source": [
    "df.describe() # inspect dataset"
   ]
  },
  {
   "cell_type": "code",
   "execution_count": 13,
   "metadata": {},
   "outputs": [
    {
     "data": {
      "text/html": [
       "<div>\n",
       "<style scoped>\n",
       "    .dataframe tbody tr th:only-of-type {\n",
       "        vertical-align: middle;\n",
       "    }\n",
       "\n",
       "    .dataframe tbody tr th {\n",
       "        vertical-align: top;\n",
       "    }\n",
       "\n",
       "    .dataframe thead th {\n",
       "        text-align: right;\n",
       "    }\n",
       "</style>\n",
       "<table border=\"1\" class=\"dataframe\">\n",
       "  <thead>\n",
       "    <tr style=\"text-align: right;\">\n",
       "      <th></th>\n",
       "      <th>2013-01-01 00:00:00</th>\n",
       "      <th>2013-01-02 00:00:00</th>\n",
       "      <th>2013-01-03 00:00:00</th>\n",
       "      <th>2013-01-04 00:00:00</th>\n",
       "      <th>2013-01-05 00:00:00</th>\n",
       "      <th>2013-01-06 00:00:00</th>\n",
       "    </tr>\n",
       "  </thead>\n",
       "  <tbody>\n",
       "    <tr>\n",
       "      <th>A</th>\n",
       "      <td>0.816414</td>\n",
       "      <td>-1.004928</td>\n",
       "      <td>-0.011139</td>\n",
       "      <td>-1.209340</td>\n",
       "      <td>0.510095</td>\n",
       "      <td>0.028280</td>\n",
       "    </tr>\n",
       "    <tr>\n",
       "      <th>B</th>\n",
       "      <td>0.241281</td>\n",
       "      <td>1.039068</td>\n",
       "      <td>-1.235460</td>\n",
       "      <td>0.320708</td>\n",
       "      <td>-0.840999</td>\n",
       "      <td>-2.540471</td>\n",
       "    </tr>\n",
       "    <tr>\n",
       "      <th>C</th>\n",
       "      <td>1.259946</td>\n",
       "      <td>-1.062491</td>\n",
       "      <td>0.463615</td>\n",
       "      <td>-1.750841</td>\n",
       "      <td>-2.061217</td>\n",
       "      <td>-0.537396</td>\n",
       "    </tr>\n",
       "    <tr>\n",
       "      <th>D</th>\n",
       "      <td>0.563317</td>\n",
       "      <td>0.495044</td>\n",
       "      <td>-0.019130</td>\n",
       "      <td>0.288654</td>\n",
       "      <td>0.881860</td>\n",
       "      <td>-0.118283</td>\n",
       "    </tr>\n",
       "  </tbody>\n",
       "</table>\n",
       "</div>"
      ],
      "text/plain": [
       "   2013-01-01  2013-01-02  2013-01-03  2013-01-04  2013-01-05  2013-01-06\n",
       "A    0.816414   -1.004928   -0.011139   -1.209340    0.510095    0.028280\n",
       "B    0.241281    1.039068   -1.235460    0.320708   -0.840999   -2.540471\n",
       "C    1.259946   -1.062491    0.463615   -1.750841   -2.061217   -0.537396\n",
       "D    0.563317    0.495044   -0.019130    0.288654    0.881860   -0.118283"
      ]
     },
     "execution_count": 13,
     "metadata": {},
     "output_type": "execute_result"
    }
   ],
   "source": [
    "df.T # transpose"
   ]
  },
  {
   "cell_type": "code",
   "execution_count": 14,
   "metadata": {},
   "outputs": [
    {
     "data": {
      "text/html": [
       "<div>\n",
       "<style scoped>\n",
       "    .dataframe tbody tr th:only-of-type {\n",
       "        vertical-align: middle;\n",
       "    }\n",
       "\n",
       "    .dataframe tbody tr th {\n",
       "        vertical-align: top;\n",
       "    }\n",
       "\n",
       "    .dataframe thead th {\n",
       "        text-align: right;\n",
       "    }\n",
       "</style>\n",
       "<table border=\"1\" class=\"dataframe\">\n",
       "  <thead>\n",
       "    <tr style=\"text-align: right;\">\n",
       "      <th></th>\n",
       "      <th>D</th>\n",
       "      <th>C</th>\n",
       "      <th>B</th>\n",
       "      <th>A</th>\n",
       "    </tr>\n",
       "  </thead>\n",
       "  <tbody>\n",
       "    <tr>\n",
       "      <th>2013-01-01</th>\n",
       "      <td>0.563317</td>\n",
       "      <td>1.259946</td>\n",
       "      <td>0.241281</td>\n",
       "      <td>0.816414</td>\n",
       "    </tr>\n",
       "    <tr>\n",
       "      <th>2013-01-02</th>\n",
       "      <td>0.495044</td>\n",
       "      <td>-1.062491</td>\n",
       "      <td>1.039068</td>\n",
       "      <td>-1.004928</td>\n",
       "    </tr>\n",
       "    <tr>\n",
       "      <th>2013-01-03</th>\n",
       "      <td>-0.019130</td>\n",
       "      <td>0.463615</td>\n",
       "      <td>-1.235460</td>\n",
       "      <td>-0.011139</td>\n",
       "    </tr>\n",
       "    <tr>\n",
       "      <th>2013-01-04</th>\n",
       "      <td>0.288654</td>\n",
       "      <td>-1.750841</td>\n",
       "      <td>0.320708</td>\n",
       "      <td>-1.209340</td>\n",
       "    </tr>\n",
       "    <tr>\n",
       "      <th>2013-01-05</th>\n",
       "      <td>0.881860</td>\n",
       "      <td>-2.061217</td>\n",
       "      <td>-0.840999</td>\n",
       "      <td>0.510095</td>\n",
       "    </tr>\n",
       "    <tr>\n",
       "      <th>2013-01-06</th>\n",
       "      <td>-0.118283</td>\n",
       "      <td>-0.537396</td>\n",
       "      <td>-2.540471</td>\n",
       "      <td>0.028280</td>\n",
       "    </tr>\n",
       "  </tbody>\n",
       "</table>\n",
       "</div>"
      ],
      "text/plain": [
       "                   D         C         B         A\n",
       "2013-01-01  0.563317  1.259946  0.241281  0.816414\n",
       "2013-01-02  0.495044 -1.062491  1.039068 -1.004928\n",
       "2013-01-03 -0.019130  0.463615 -1.235460 -0.011139\n",
       "2013-01-04  0.288654 -1.750841  0.320708 -1.209340\n",
       "2013-01-05  0.881860 -2.061217 -0.840999  0.510095\n",
       "2013-01-06 -0.118283 -0.537396 -2.540471  0.028280"
      ]
     },
     "execution_count": 14,
     "metadata": {},
     "output_type": "execute_result"
    }
   ],
   "source": [
    "df.sort_index(axis=1, ascending=False) # sort by axis"
   ]
  },
  {
   "cell_type": "markdown",
   "metadata": {},
   "source": [
    "# ingest excel files"
   ]
  },
  {
   "cell_type": "code",
   "execution_count": 15,
   "metadata": {},
   "outputs": [],
   "source": [
    "xl = pd.read_excel(\"./docs/exampleexcel.xlsx\")"
   ]
  },
  {
   "cell_type": "code",
   "execution_count": 16,
   "metadata": {},
   "outputs": [
    {
     "data": {
      "text/html": [
       "<div>\n",
       "<style scoped>\n",
       "    .dataframe tbody tr th:only-of-type {\n",
       "        vertical-align: middle;\n",
       "    }\n",
       "\n",
       "    .dataframe tbody tr th {\n",
       "        vertical-align: top;\n",
       "    }\n",
       "\n",
       "    .dataframe thead th {\n",
       "        text-align: right;\n",
       "    }\n",
       "</style>\n",
       "<table border=\"1\" class=\"dataframe\">\n",
       "  <thead>\n",
       "    <tr style=\"text-align: right;\">\n",
       "      <th></th>\n",
       "      <th>Example column 1</th>\n",
       "      <th>Example column 2</th>\n",
       "      <th>Example column three</th>\n",
       "      <th>Example column 4</th>\n",
       "    </tr>\n",
       "  </thead>\n",
       "  <tbody>\n",
       "    <tr>\n",
       "      <th>0</th>\n",
       "      <td>Text value 1</td>\n",
       "      <td>4</td>\n",
       "      <td>4.6</td>\n",
       "      <td>2019-09-03</td>\n",
       "    </tr>\n",
       "    <tr>\n",
       "      <th>1</th>\n",
       "      <td>Text value 2</td>\n",
       "      <td>5</td>\n",
       "      <td>5.2</td>\n",
       "      <td>2019-03-05</td>\n",
       "    </tr>\n",
       "    <tr>\n",
       "      <th>2</th>\n",
       "      <td>Text value 3</td>\n",
       "      <td>2</td>\n",
       "      <td>7.8</td>\n",
       "      <td>2018-05-04</td>\n",
       "    </tr>\n",
       "    <tr>\n",
       "      <th>3</th>\n",
       "      <td>Text value 4</td>\n",
       "      <td>8</td>\n",
       "      <td>5.9</td>\n",
       "      <td>2017-05-07</td>\n",
       "    </tr>\n",
       "    <tr>\n",
       "      <th>4</th>\n",
       "      <td>Text value 5</td>\n",
       "      <td>9</td>\n",
       "      <td>3.5</td>\n",
       "      <td>2016-12-09</td>\n",
       "    </tr>\n",
       "    <tr>\n",
       "      <th>5</th>\n",
       "      <td>Text value 6</td>\n",
       "      <td>4</td>\n",
       "      <td>2.5</td>\n",
       "      <td>2019-02-01</td>\n",
       "    </tr>\n",
       "    <tr>\n",
       "      <th>6</th>\n",
       "      <td>Text value 7</td>\n",
       "      <td>8</td>\n",
       "      <td>7.8</td>\n",
       "      <td>2019-04-03</td>\n",
       "    </tr>\n",
       "    <tr>\n",
       "      <th>7</th>\n",
       "      <td>Text value 8</td>\n",
       "      <td>0</td>\n",
       "      <td>9.6</td>\n",
       "      <td>2019-05-02</td>\n",
       "    </tr>\n",
       "    <tr>\n",
       "      <th>8</th>\n",
       "      <td>Text value 9</td>\n",
       "      <td>3</td>\n",
       "      <td>10.5</td>\n",
       "      <td>2018-02-01</td>\n",
       "    </tr>\n",
       "  </tbody>\n",
       "</table>\n",
       "</div>"
      ],
      "text/plain": [
       "  Example column 1  Example column 2  Example column three Example column 4 \n",
       "0     Text value 1                 4                   4.6        2019-09-03\n",
       "1     Text value 2                 5                   5.2        2019-03-05\n",
       "2     Text value 3                 2                   7.8        2018-05-04\n",
       "3     Text value 4                 8                   5.9        2017-05-07\n",
       "4     Text value 5                 9                   3.5        2016-12-09\n",
       "5     Text value 6                 4                   2.5        2019-02-01\n",
       "6     Text value 7                 8                   7.8        2019-04-03\n",
       "7     Text value 8                 0                   9.6        2019-05-02\n",
       "8     Text value 9                 3                  10.5        2018-02-01"
      ]
     },
     "execution_count": 16,
     "metadata": {},
     "output_type": "execute_result"
    }
   ],
   "source": [
    "xl"
   ]
  },
  {
   "cell_type": "code",
   "execution_count": 17,
   "metadata": {},
   "outputs": [
    {
     "data": {
      "text/html": [
       "<div>\n",
       "<style scoped>\n",
       "    .dataframe tbody tr th:only-of-type {\n",
       "        vertical-align: middle;\n",
       "    }\n",
       "\n",
       "    .dataframe tbody tr th {\n",
       "        vertical-align: top;\n",
       "    }\n",
       "\n",
       "    .dataframe thead th {\n",
       "        text-align: right;\n",
       "    }\n",
       "</style>\n",
       "<table border=\"1\" class=\"dataframe\">\n",
       "  <thead>\n",
       "    <tr style=\"text-align: right;\">\n",
       "      <th></th>\n",
       "      <th>Example column 1</th>\n",
       "      <th>Example column 2</th>\n",
       "      <th>Example column three</th>\n",
       "      <th>Example column 4</th>\n",
       "    </tr>\n",
       "  </thead>\n",
       "  <tbody>\n",
       "    <tr>\n",
       "      <th>0</th>\n",
       "      <td>Text value 1</td>\n",
       "      <td>4</td>\n",
       "      <td>4.6</td>\n",
       "      <td>2019-09-03</td>\n",
       "    </tr>\n",
       "    <tr>\n",
       "      <th>1</th>\n",
       "      <td>Text value 2</td>\n",
       "      <td>5</td>\n",
       "      <td>5.2</td>\n",
       "      <td>2019-03-05</td>\n",
       "    </tr>\n",
       "    <tr>\n",
       "      <th>2</th>\n",
       "      <td>Text value 3</td>\n",
       "      <td>2</td>\n",
       "      <td>7.8</td>\n",
       "      <td>2018-05-04</td>\n",
       "    </tr>\n",
       "    <tr>\n",
       "      <th>3</th>\n",
       "      <td>Text value 4</td>\n",
       "      <td>8</td>\n",
       "      <td>5.9</td>\n",
       "      <td>2017-05-07</td>\n",
       "    </tr>\n",
       "    <tr>\n",
       "      <th>4</th>\n",
       "      <td>Text value 5</td>\n",
       "      <td>9</td>\n",
       "      <td>3.5</td>\n",
       "      <td>2016-12-09</td>\n",
       "    </tr>\n",
       "  </tbody>\n",
       "</table>\n",
       "</div>"
      ],
      "text/plain": [
       "  Example column 1  Example column 2  Example column three Example column 4 \n",
       "0     Text value 1                 4                   4.6        2019-09-03\n",
       "1     Text value 2                 5                   5.2        2019-03-05\n",
       "2     Text value 3                 2                   7.8        2018-05-04\n",
       "3     Text value 4                 8                   5.9        2017-05-07\n",
       "4     Text value 5                 9                   3.5        2016-12-09"
      ]
     },
     "execution_count": 17,
     "metadata": {},
     "output_type": "execute_result"
    }
   ],
   "source": [
    "xl.head()"
   ]
  },
  {
   "cell_type": "code",
   "execution_count": 18,
   "metadata": {},
   "outputs": [
    {
     "data": {
      "text/plain": [
       "count     9.000000\n",
       "mean      6.377778\n",
       "std       2.727534\n",
       "min       2.500000\n",
       "25%       4.600000\n",
       "50%       5.900000\n",
       "75%       7.800000\n",
       "max      10.500000\n",
       "Name: Example column three, dtype: float64"
      ]
     },
     "execution_count": 18,
     "metadata": {},
     "output_type": "execute_result"
    }
   ],
   "source": [
    "xl['Example column three'].describe()"
   ]
  },
  {
   "cell_type": "code",
   "execution_count": 19,
   "metadata": {},
   "outputs": [],
   "source": [
    "xl['Example column 2'] = xl['Example column 2'] * 2"
   ]
  },
  {
   "cell_type": "code",
   "execution_count": 20,
   "metadata": {},
   "outputs": [
    {
     "data": {
      "text/html": [
       "<div>\n",
       "<style scoped>\n",
       "    .dataframe tbody tr th:only-of-type {\n",
       "        vertical-align: middle;\n",
       "    }\n",
       "\n",
       "    .dataframe tbody tr th {\n",
       "        vertical-align: top;\n",
       "    }\n",
       "\n",
       "    .dataframe thead th {\n",
       "        text-align: right;\n",
       "    }\n",
       "</style>\n",
       "<table border=\"1\" class=\"dataframe\">\n",
       "  <thead>\n",
       "    <tr style=\"text-align: right;\">\n",
       "      <th></th>\n",
       "      <th>Example column 1</th>\n",
       "      <th>Example column 2</th>\n",
       "      <th>Example column three</th>\n",
       "      <th>Example column 4</th>\n",
       "    </tr>\n",
       "  </thead>\n",
       "  <tbody>\n",
       "    <tr>\n",
       "      <th>0</th>\n",
       "      <td>Text value 1</td>\n",
       "      <td>8</td>\n",
       "      <td>4.6</td>\n",
       "      <td>2019-09-03</td>\n",
       "    </tr>\n",
       "    <tr>\n",
       "      <th>1</th>\n",
       "      <td>Text value 2</td>\n",
       "      <td>10</td>\n",
       "      <td>5.2</td>\n",
       "      <td>2019-03-05</td>\n",
       "    </tr>\n",
       "    <tr>\n",
       "      <th>2</th>\n",
       "      <td>Text value 3</td>\n",
       "      <td>4</td>\n",
       "      <td>7.8</td>\n",
       "      <td>2018-05-04</td>\n",
       "    </tr>\n",
       "    <tr>\n",
       "      <th>3</th>\n",
       "      <td>Text value 4</td>\n",
       "      <td>16</td>\n",
       "      <td>5.9</td>\n",
       "      <td>2017-05-07</td>\n",
       "    </tr>\n",
       "    <tr>\n",
       "      <th>4</th>\n",
       "      <td>Text value 5</td>\n",
       "      <td>18</td>\n",
       "      <td>3.5</td>\n",
       "      <td>2016-12-09</td>\n",
       "    </tr>\n",
       "  </tbody>\n",
       "</table>\n",
       "</div>"
      ],
      "text/plain": [
       "  Example column 1  Example column 2  Example column three Example column 4 \n",
       "0     Text value 1                 8                   4.6        2019-09-03\n",
       "1     Text value 2                10                   5.2        2019-03-05\n",
       "2     Text value 3                 4                   7.8        2018-05-04\n",
       "3     Text value 4                16                   5.9        2017-05-07\n",
       "4     Text value 5                18                   3.5        2016-12-09"
      ]
     },
     "execution_count": 20,
     "metadata": {},
     "output_type": "execute_result"
    }
   ],
   "source": [
    "xl.head()"
   ]
  }
 ],
 "metadata": {
  "kernelspec": {
   "display_name": "Python 3",
   "language": "python",
   "name": "python3"
  },
  "language_info": {
   "codemirror_mode": {
    "name": "ipython",
    "version": 3
   },
   "file_extension": ".py",
   "mimetype": "text/x-python",
   "name": "python",
   "nbconvert_exporter": "python",
   "pygments_lexer": "ipython3",
   "version": "3.7.3"
  }
 },
 "nbformat": 4,
 "nbformat_minor": 2
}
