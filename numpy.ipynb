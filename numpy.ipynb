{
 "cells": [
  {
   "cell_type": "markdown",
   "metadata": {},
   "source": [
    "# numpy\n",
    "NumPy is the fundamental package for scientific computing with Python. It contains among other things:\n",
    "\n",
    "* a powerful N-dimensional array object\n",
    "* sophisticated (broadcasting) functions\n",
    "* tools for integrating C/C++ and Fortran code\n",
    "* useful linear algebra, Fourier transform, and random number capabilities\n",
    "\n",
    "Besides its obvious scientific uses, NumPy can also be used as an efficient multi-dimensional container of generic data. Arbitrary data-types can be defined. This allows NumPy to seamlessly and speedily integrate with a wide variety of databases.\n",
    "\n",
    "NumPy is licensed under the BSD license, enabling reuse with few restrictions."
   ]
  },
  {
   "cell_type": "code",
   "execution_count": 1,
   "metadata": {},
   "outputs": [],
   "source": [
    "import numpy as np"
   ]
  },
  {
   "cell_type": "code",
   "execution_count": 2,
   "metadata": {},
   "outputs": [],
   "source": [
    "a = np.arange(15).reshape(3, 5)"
   ]
  },
  {
   "cell_type": "code",
   "execution_count": 3,
   "metadata": {},
   "outputs": [
    {
     "data": {
      "text/plain": [
       "array([[ 0,  1,  2,  3,  4],\n",
       "       [ 5,  6,  7,  8,  9],\n",
       "       [10, 11, 12, 13, 14]])"
      ]
     },
     "execution_count": 3,
     "metadata": {},
     "output_type": "execute_result"
    }
   ],
   "source": [
    "a"
   ]
  },
  {
   "cell_type": "code",
   "execution_count": 4,
   "metadata": {},
   "outputs": [
    {
     "data": {
      "text/plain": [
       "(3, 5)"
      ]
     },
     "execution_count": 4,
     "metadata": {},
     "output_type": "execute_result"
    }
   ],
   "source": [
    "a.shape"
   ]
  },
  {
   "cell_type": "code",
   "execution_count": 5,
   "metadata": {},
   "outputs": [
    {
     "data": {
      "text/plain": [
       "dtype('int64')"
      ]
     },
     "execution_count": 5,
     "metadata": {},
     "output_type": "execute_result"
    }
   ],
   "source": [
    "a.dtype"
   ]
  },
  {
   "cell_type": "code",
   "execution_count": 6,
   "metadata": {},
   "outputs": [
    {
     "data": {
      "text/plain": [
       "'int64'"
      ]
     },
     "execution_count": 6,
     "metadata": {},
     "output_type": "execute_result"
    }
   ],
   "source": [
    "a.dtype.name"
   ]
  },
  {
   "cell_type": "code",
   "execution_count": 7,
   "metadata": {},
   "outputs": [
    {
     "data": {
      "text/plain": [
       "array([0, 1, 2, 3, 4, 5, 6])"
      ]
     },
     "execution_count": 7,
     "metadata": {},
     "output_type": "execute_result"
    }
   ],
   "source": [
    "np.arange(7)"
   ]
  },
  {
   "cell_type": "code",
   "execution_count": 8,
   "metadata": {},
   "outputs": [
    {
     "data": {
      "text/plain": [
       "array([1, 2, 3, 4, 5, 6])"
      ]
     },
     "execution_count": 8,
     "metadata": {},
     "output_type": "execute_result"
    }
   ],
   "source": [
    "np.arange(1, 7)"
   ]
  },
  {
   "cell_type": "code",
   "execution_count": 9,
   "metadata": {},
   "outputs": [],
   "source": [
    "new_a = np.array([4,5,2,8,6,9,6,3])"
   ]
  },
  {
   "cell_type": "code",
   "execution_count": 10,
   "metadata": {},
   "outputs": [
    {
     "data": {
      "text/plain": [
       "array([4, 5, 2, 8, 6, 9, 6, 3])"
      ]
     },
     "execution_count": 10,
     "metadata": {},
     "output_type": "execute_result"
    }
   ],
   "source": [
    "new_a"
   ]
  },
  {
   "cell_type": "code",
   "execution_count": 11,
   "metadata": {},
   "outputs": [
    {
     "data": {
      "text/plain": [
       "(8,)"
      ]
     },
     "execution_count": 11,
     "metadata": {},
     "output_type": "execute_result"
    }
   ],
   "source": [
    "new_a.shape"
   ]
  },
  {
   "cell_type": "code",
   "execution_count": 12,
   "metadata": {},
   "outputs": [
    {
     "data": {
      "text/plain": [
       "43"
      ]
     },
     "execution_count": 12,
     "metadata": {},
     "output_type": "execute_result"
    }
   ],
   "source": [
    "new_a.sum()"
   ]
  },
  {
   "cell_type": "code",
   "execution_count": 13,
   "metadata": {},
   "outputs": [
    {
     "data": {
      "text/plain": [
       "2"
      ]
     },
     "execution_count": 13,
     "metadata": {},
     "output_type": "execute_result"
    }
   ],
   "source": [
    "new_a.min()"
   ]
  },
  {
   "cell_type": "code",
   "execution_count": 14,
   "metadata": {},
   "outputs": [
    {
     "data": {
      "text/plain": [
       "9"
      ]
     },
     "execution_count": 14,
     "metadata": {},
     "output_type": "execute_result"
    }
   ],
   "source": [
    "new_a.max()"
   ]
  },
  {
   "cell_type": "code",
   "execution_count": 15,
   "metadata": {},
   "outputs": [
    {
     "name": "stdout",
     "output_type": "stream",
     "text": [
      "[51, 38, 110, 24, 391, 221, 153, 61, 184, 21, 236, 122, 205, 382, 209, 72, 187, 388, 356, 144, 396, 109, 356, 155, 252, 56, 292, 80, 316, 194, 167, 59, 350, 115, 332, 175, 299, 228, 161, 127, 91, 272, 188, 90, 17, 359, 214, 259, 18, 77, 387, 255, 132, 319, 101, 80, 54, 200, 276, 369, 378, 7, 295, 15, 141, 391, 242, 395, 70, 269, 123, 77, 247, 17, 398, 226, 34, 198, 149, 397, 241, 116, 319, 254, 356, 151, 286, 370, 230, 28, 30, 377, 359, 217, 330, 259, 44, 211, 384, 239]\n"
     ]
    }
   ],
   "source": [
    "# create list of random numbers\n",
    "import random\n",
    "random_list = []\n",
    "for x in range(100):\n",
    "    random_list.append(random.randint(1, 400))\n",
    "print(random_list)"
   ]
  },
  {
   "cell_type": "code",
   "execution_count": 16,
   "metadata": {},
   "outputs": [],
   "source": [
    "numpy_random_builtin = np.random.random((100,))"
   ]
  },
  {
   "cell_type": "code",
   "execution_count": 17,
   "metadata": {},
   "outputs": [
    {
     "data": {
      "text/plain": [
       "array([0.17273483, 0.65451903, 0.20463298, 0.8260582 , 0.68553825,\n",
       "       0.91262481, 0.96064848, 0.57468104, 0.26472374, 0.84505298,\n",
       "       0.4494602 , 0.82598434, 0.46151842, 0.0024705 , 0.08441556,\n",
       "       0.19549673, 0.06486763, 0.31548511, 0.88687887, 0.13561427,\n",
       "       0.27438607, 0.24870063, 0.57206922, 0.93883712, 0.58581975,\n",
       "       0.32581994, 0.08311931, 0.67193235, 0.52375569, 0.93887427,\n",
       "       0.87422498, 0.52758474, 0.44947785, 0.50466407, 0.43785955,\n",
       "       0.72882964, 0.99474115, 0.79382934, 0.86130692, 0.93296839,\n",
       "       0.74422461, 0.40956698, 0.62224321, 0.19020029, 0.01384618,\n",
       "       0.55196474, 0.32424606, 0.8376786 , 0.41798607, 0.97930024,\n",
       "       0.42163633, 0.53322879, 0.57397759, 0.26406704, 0.59105883,\n",
       "       0.96039015, 0.25682459, 0.31999329, 0.03769497, 0.0710584 ,\n",
       "       0.6043752 , 0.41330908, 0.63479106, 0.92165657, 0.95513894,\n",
       "       0.74478746, 0.21285282, 0.77415749, 0.10533776, 0.36692763,\n",
       "       0.20763495, 0.52401148, 0.52959258, 0.84929907, 0.96399901,\n",
       "       0.40547946, 0.92502553, 0.86433811, 0.08122317, 0.65726286,\n",
       "       0.79261912, 0.70473315, 0.63432783, 0.62654507, 0.60289639,\n",
       "       0.12699246, 0.04955641, 0.38552461, 0.55431312, 0.91558393,\n",
       "       0.14736836, 0.52033999, 0.73744747, 0.97973197, 0.13678221,\n",
       "       0.29008965, 0.02399677, 0.05575792, 0.59932607, 0.4993888 ])"
      ]
     },
     "execution_count": 17,
     "metadata": {},
     "output_type": "execute_result"
    }
   ],
   "source": [
    "numpy_random_builtin"
   ]
  },
  {
   "cell_type": "code",
   "execution_count": 18,
   "metadata": {},
   "outputs": [
    {
     "data": {
      "text/plain": [
       "array([172.73482933, 654.5190301 , 204.63298121, 826.05820238,\n",
       "       685.53824527, 912.62481361, 960.64847999, 574.68104428,\n",
       "       264.72374288, 845.05298022, 449.46019878, 825.98434258,\n",
       "       461.51842002,   2.4705025 ,  84.41556436, 195.49673067,\n",
       "        64.86763367, 315.4851111 , 886.87886726, 135.6142709 ,\n",
       "       274.38606563, 248.70063185, 572.06921533, 938.83711778,\n",
       "       585.81974873, 325.81994347,  83.11930588, 671.93234578,\n",
       "       523.7556947 , 938.87427055, 874.22497822, 527.58474322,\n",
       "       449.47784999, 504.66407327, 437.85954744, 728.8296398 ,\n",
       "       994.74114989, 793.82934124, 861.30692015, 932.96838973,\n",
       "       744.22461331, 409.56697624, 622.24320533, 190.20029338,\n",
       "        13.84617899, 551.96473602, 324.24606358, 837.67859673,\n",
       "       417.98607105, 979.30024336, 421.63633202, 533.22879114,\n",
       "       573.97759152, 264.06704271, 591.05883075, 960.39015126,\n",
       "       256.82459117, 319.99329085,  37.69496816,  71.05839632,\n",
       "       604.37520426, 413.3090844 , 634.79105793, 921.656568  ,\n",
       "       955.13893693, 744.7874579 , 212.85281534, 774.15749379,\n",
       "       105.33775912, 366.92763439, 207.63494541, 524.01148036,\n",
       "       529.59258221, 849.29907379, 963.99901092, 405.4794577 ,\n",
       "       925.02553109, 864.33810716,  81.2231717 , 657.26285834,\n",
       "       792.61911919, 704.73314942, 634.32783259, 626.54506611,\n",
       "       602.89638963, 126.99245839,  49.55641303, 385.52461114,\n",
       "       554.31312244, 915.58392578, 147.36835877, 520.33998758,\n",
       "       737.44746532, 979.73197152, 136.78220942, 290.08965202,\n",
       "        23.99677424,  55.75791988, 599.32607201, 499.38879767])"
      ]
     },
     "execution_count": 18,
     "metadata": {},
     "output_type": "execute_result"
    }
   ],
   "source": [
    "numpy_random_builtin * 1000"
   ]
  },
  {
   "cell_type": "code",
   "execution_count": 19,
   "metadata": {},
   "outputs": [
    {
     "data": {
      "text/plain": [
       "array([0.17273483, 0.65451903, 0.20463298, 0.8260582 , 0.68553825,\n",
       "       0.91262481, 0.96064848, 0.57468104, 0.26472374, 0.84505298,\n",
       "       0.4494602 , 0.82598434, 0.46151842, 0.0024705 , 0.08441556,\n",
       "       0.19549673, 0.06486763, 0.31548511, 0.88687887, 0.13561427,\n",
       "       0.27438607, 0.24870063, 0.57206922, 0.93883712, 0.58581975,\n",
       "       0.32581994, 0.08311931, 0.67193235, 0.52375569, 0.93887427,\n",
       "       0.87422498, 0.52758474, 0.44947785, 0.50466407, 0.43785955,\n",
       "       0.72882964, 0.99474115, 0.79382934, 0.86130692, 0.93296839,\n",
       "       0.74422461, 0.40956698, 0.62224321, 0.19020029, 0.01384618,\n",
       "       0.55196474, 0.32424606, 0.8376786 , 0.41798607, 0.97930024,\n",
       "       0.42163633, 0.53322879, 0.57397759, 0.26406704, 0.59105883,\n",
       "       0.96039015, 0.25682459, 0.31999329, 0.03769497, 0.0710584 ,\n",
       "       0.6043752 , 0.41330908, 0.63479106, 0.92165657, 0.95513894,\n",
       "       0.74478746, 0.21285282, 0.77415749, 0.10533776, 0.36692763,\n",
       "       0.20763495, 0.52401148, 0.52959258, 0.84929907, 0.96399901,\n",
       "       0.40547946, 0.92502553, 0.86433811, 0.08122317, 0.65726286,\n",
       "       0.79261912, 0.70473315, 0.63432783, 0.62654507, 0.60289639,\n",
       "       0.12699246, 0.04955641, 0.38552461, 0.55431312, 0.91558393,\n",
       "       0.14736836, 0.52033999, 0.73744747, 0.97973197, 0.13678221,\n",
       "       0.29008965, 0.02399677, 0.05575792, 0.59932607, 0.4993888 ])"
      ]
     },
     "execution_count": 19,
     "metadata": {},
     "output_type": "execute_result"
    }
   ],
   "source": [
    "numpy_random_builtin"
   ]
  },
  {
   "cell_type": "code",
   "execution_count": 20,
   "metadata": {},
   "outputs": [
    {
     "data": {
      "text/plain": [
       "array([1727, 6545, 2046, 8260, 6855, 9126, 9606, 5746, 2647, 8450, 4494,\n",
       "       8259, 4615,   24,  844, 1954,  648, 3154, 8868, 1356, 2743, 2487,\n",
       "       5720, 9388, 5858, 3258,  831, 6719, 5237, 9388, 8742, 5275, 4494,\n",
       "       5046, 4378, 7288, 9947, 7938, 8613, 9329, 7442, 4095, 6222, 1902,\n",
       "        138, 5519, 3242, 8376, 4179, 9793, 4216, 5332, 5739, 2640, 5910,\n",
       "       9603, 2568, 3199,  376,  710, 6043, 4133, 6347, 9216, 9551, 7447,\n",
       "       2128, 7741, 1053, 3669, 2076, 5240, 5295, 8492, 9639, 4054, 9250,\n",
       "       8643,  812, 6572, 7926, 7047, 6343, 6265, 6028, 1269,  495, 3855,\n",
       "       5543, 9155, 1473, 5203, 7374, 9797, 1367, 2900,  239,  557, 5993,\n",
       "       4993])"
      ]
     },
     "execution_count": 20,
     "metadata": {},
     "output_type": "execute_result"
    }
   ],
   "source": [
    "np.asarray(numpy_random_builtin * 10000, dtype=int)"
   ]
  },
  {
   "cell_type": "code",
   "execution_count": null,
   "metadata": {},
   "outputs": [],
   "source": []
  },
  {
   "cell_type": "code",
   "execution_count": null,
   "metadata": {},
   "outputs": [],
   "source": []
  },
  {
   "cell_type": "code",
   "execution_count": null,
   "metadata": {},
   "outputs": [],
   "source": []
  }
 ],
 "metadata": {
  "kernelspec": {
   "display_name": "Python 3",
   "language": "python",
   "name": "python3"
  },
  "language_info": {
   "codemirror_mode": {
    "name": "ipython",
    "version": 3
   },
   "file_extension": ".py",
   "mimetype": "text/x-python",
   "name": "python",
   "nbconvert_exporter": "python",
   "pygments_lexer": "ipython3",
   "version": "3.7.3"
  }
 },
 "nbformat": 4,
 "nbformat_minor": 2
}
