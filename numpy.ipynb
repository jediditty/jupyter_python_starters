{
 "cells": [
  {
   "cell_type": "markdown",
   "metadata": {},
   "source": [
    "# numpy\n",
    "NumPy is the fundamental package for scientific computing with Python. It contains among other things:\n",
    "\n",
    "* a powerful N-dimensional array object\n",
    "* sophisticated (broadcasting) functions\n",
    "* tools for integrating C/C++ and Fortran code\n",
    "* useful linear algebra, Fourier transform, and random number capabilities\n",
    "\n",
    "Besides its obvious scientific uses, NumPy can also be used as an efficient multi-dimensional container of generic data. Arbitrary data-types can be defined. This allows NumPy to seamlessly and speedily integrate with a wide variety of databases.\n",
    "\n",
    "NumPy is licensed under the BSD license, enabling reuse with few restrictions."
   ]
  },
  {
   "cell_type": "code",
   "execution_count": 1,
   "metadata": {},
   "outputs": [],
   "source": [
    "import numpy as np"
   ]
  },
  {
   "cell_type": "code",
   "execution_count": 2,
   "metadata": {},
   "outputs": [],
   "source": [
    "a = np.arange(15).reshape(3, 5)"
   ]
  },
  {
   "cell_type": "code",
   "execution_count": 3,
   "metadata": {},
   "outputs": [
    {
     "data": {
      "text/plain": [
       "array([[ 0,  1,  2,  3,  4],\n",
       "       [ 5,  6,  7,  8,  9],\n",
       "       [10, 11, 12, 13, 14]])"
      ]
     },
     "execution_count": 3,
     "metadata": {},
     "output_type": "execute_result"
    }
   ],
   "source": [
    "a"
   ]
  },
  {
   "cell_type": "code",
   "execution_count": 4,
   "metadata": {},
   "outputs": [
    {
     "data": {
      "text/plain": [
       "(3, 5)"
      ]
     },
     "execution_count": 4,
     "metadata": {},
     "output_type": "execute_result"
    }
   ],
   "source": [
    "a.shape"
   ]
  },
  {
   "cell_type": "code",
   "execution_count": 5,
   "metadata": {},
   "outputs": [
    {
     "data": {
      "text/plain": [
       "dtype('int64')"
      ]
     },
     "execution_count": 5,
     "metadata": {},
     "output_type": "execute_result"
    }
   ],
   "source": [
    "a.dtype"
   ]
  },
  {
   "cell_type": "code",
   "execution_count": 6,
   "metadata": {},
   "outputs": [
    {
     "data": {
      "text/plain": [
       "'int64'"
      ]
     },
     "execution_count": 6,
     "metadata": {},
     "output_type": "execute_result"
    }
   ],
   "source": [
    "a.dtype.name"
   ]
  },
  {
   "cell_type": "code",
   "execution_count": 7,
   "metadata": {},
   "outputs": [
    {
     "data": {
      "text/plain": [
       "array([0, 1, 2, 3, 4, 5, 6])"
      ]
     },
     "execution_count": 7,
     "metadata": {},
     "output_type": "execute_result"
    }
   ],
   "source": [
    "np.arange(7)"
   ]
  },
  {
   "cell_type": "code",
   "execution_count": 8,
   "metadata": {},
   "outputs": [
    {
     "data": {
      "text/plain": [
       "array([1, 2, 3, 4, 5, 6])"
      ]
     },
     "execution_count": 8,
     "metadata": {},
     "output_type": "execute_result"
    }
   ],
   "source": [
    "np.arange(1, 7)"
   ]
  },
  {
   "cell_type": "code",
   "execution_count": 9,
   "metadata": {},
   "outputs": [],
   "source": [
    "new_a = np.array([4,5,2,8,6,9,6,3])"
   ]
  },
  {
   "cell_type": "code",
   "execution_count": 10,
   "metadata": {},
   "outputs": [
    {
     "data": {
      "text/plain": [
       "array([4, 5, 2, 8, 6, 9, 6, 3])"
      ]
     },
     "execution_count": 10,
     "metadata": {},
     "output_type": "execute_result"
    }
   ],
   "source": [
    "new_a"
   ]
  },
  {
   "cell_type": "code",
   "execution_count": 11,
   "metadata": {},
   "outputs": [
    {
     "data": {
      "text/plain": [
       "(8,)"
      ]
     },
     "execution_count": 11,
     "metadata": {},
     "output_type": "execute_result"
    }
   ],
   "source": [
    "new_a.shape"
   ]
  },
  {
   "cell_type": "code",
   "execution_count": 12,
   "metadata": {},
   "outputs": [
    {
     "data": {
      "text/plain": [
       "43"
      ]
     },
     "execution_count": 12,
     "metadata": {},
     "output_type": "execute_result"
    }
   ],
   "source": [
    "new_a.sum()"
   ]
  },
  {
   "cell_type": "code",
   "execution_count": 13,
   "metadata": {},
   "outputs": [
    {
     "data": {
      "text/plain": [
       "2"
      ]
     },
     "execution_count": 13,
     "metadata": {},
     "output_type": "execute_result"
    }
   ],
   "source": [
    "new_a.min()"
   ]
  },
  {
   "cell_type": "code",
   "execution_count": 14,
   "metadata": {},
   "outputs": [
    {
     "data": {
      "text/plain": [
       "9"
      ]
     },
     "execution_count": 14,
     "metadata": {},
     "output_type": "execute_result"
    }
   ],
   "source": [
    "new_a.max()"
   ]
  },
  {
   "cell_type": "code",
   "execution_count": 15,
   "metadata": {},
   "outputs": [
    {
     "name": "stdout",
     "output_type": "stream",
     "text": [
      "[204, 235, 243, 177, 272, 161, 383, 92, 7, 64, 142, 191, 43, 371, 145, 87, 392, 310, 24, 222, 372, 349, 348, 77, 219, 124, 293, 117, 397, 152, 342, 28, 324, 36, 369, 126, 210, 137, 4, 310, 31, 211, 134, 182, 289, 47, 176, 170, 318, 46, 310, 30, 114, 185, 138, 209, 176, 391, 58, 297, 231, 158, 243, 24, 386, 284, 254, 52, 305, 121, 340, 72, 49, 166, 35, 310, 90, 248, 87, 79, 325, 276, 194, 247, 208, 40, 90, 132, 301, 74, 306, 9, 57, 39, 207, 226, 153, 394, 308, 21]\n"
     ]
    }
   ],
   "source": [
    "# create list of random numbers\n",
    "import random\n",
    "random_list = []\n",
    "for x in range(100):\n",
    "    random_list.append(random.randint(1, 400))\n",
    "print(random_list)"
   ]
  },
  {
   "cell_type": "code",
   "execution_count": 16,
   "metadata": {},
   "outputs": [],
   "source": [
    "numpy_random_builtin = np.random.random((100,))"
   ]
  },
  {
   "cell_type": "code",
   "execution_count": 17,
   "metadata": {},
   "outputs": [
    {
     "data": {
      "text/plain": [
       "array([0.60872133, 0.58678921, 0.0788491 , 0.13626478, 0.67552122,\n",
       "       0.19398872, 0.08311666, 0.26273487, 0.24150452, 0.58973144,\n",
       "       0.71755984, 0.88708427, 0.83644858, 0.0278085 , 0.18990594,\n",
       "       0.45537494, 0.34999728, 0.72358202, 0.62336429, 0.24645001,\n",
       "       0.03309719, 0.49409085, 0.11245754, 0.26669248, 0.88599993,\n",
       "       0.26129075, 0.91000561, 0.82076961, 0.62519699, 0.13155614,\n",
       "       0.11222979, 0.94682718, 0.25533221, 0.92099649, 0.28020466,\n",
       "       0.66141605, 0.96855091, 0.08141411, 0.36204438, 0.48862492,\n",
       "       0.43473344, 0.60887841, 0.8688944 , 0.88643646, 0.6643738 ,\n",
       "       0.82980908, 0.55348152, 0.96806352, 0.9200499 , 0.87471619,\n",
       "       0.94556743, 0.578832  , 0.76957492, 0.66084451, 0.28374299,\n",
       "       0.68229005, 0.82829102, 0.7165369 , 0.33262799, 0.55888791,\n",
       "       0.93843986, 0.91941242, 0.59037755, 0.46959629, 0.77794556,\n",
       "       0.0562519 , 0.90269736, 0.33901907, 0.22345231, 0.07737253,\n",
       "       0.08608884, 0.82680719, 0.36075402, 0.45167821, 0.81510942,\n",
       "       0.43248272, 0.42809876, 0.27925395, 0.26797167, 0.61982079,\n",
       "       0.87738629, 0.85818229, 0.90494099, 0.5056684 , 0.36607236,\n",
       "       0.86081894, 0.8880647 , 0.49149498, 0.94977784, 0.45782874,\n",
       "       0.28943251, 0.27451834, 0.7228351 , 0.06681068, 0.97684148,\n",
       "       0.76741084, 0.01829794, 0.04119401, 0.35539898, 0.08500378])"
      ]
     },
     "execution_count": 17,
     "metadata": {},
     "output_type": "execute_result"
    }
   ],
   "source": [
    "numpy_random_builtin"
   ]
  },
  {
   "cell_type": "code",
   "execution_count": 18,
   "metadata": {},
   "outputs": [
    {
     "data": {
      "text/plain": [
       "array([608.72132785, 586.78921365,  78.84910171, 136.26477508,\n",
       "       675.52122156, 193.98871983,  83.11666221, 262.73487483,\n",
       "       241.50452089, 589.73143986, 717.55983545, 887.08427037,\n",
       "       836.44857513,  27.80850408, 189.90594303, 455.37494164,\n",
       "       349.9972789 , 723.58201609, 623.36429318, 246.4500146 ,\n",
       "        33.09719027, 494.09084663, 112.4575404 , 266.69248176,\n",
       "       885.99993013, 261.29074688, 910.00561242, 820.76960676,\n",
       "       625.19698629, 131.55614049, 112.22979295, 946.82717513,\n",
       "       255.33221186, 920.9964875 , 280.20466201, 661.41605309,\n",
       "       968.55091484,  81.41411375, 362.0443829 , 488.62492183,\n",
       "       434.73344094, 608.87840829, 868.89440391, 886.4364609 ,\n",
       "       664.37379586, 829.8090756 , 553.48151836, 968.06351631,\n",
       "       920.04990174, 874.71618915, 945.56743379, 578.83200005,\n",
       "       769.57491888, 660.84451382, 283.74299322, 682.29004884,\n",
       "       828.29102453, 716.5368958 , 332.62799479, 558.8879065 ,\n",
       "       938.43985879, 919.41242175, 590.37755072, 469.59628594,\n",
       "       777.94556354,  56.25189755, 902.69736421, 339.01906841,\n",
       "       223.45230722,  77.37252695,  86.08883644, 826.8071878 ,\n",
       "       360.75401623, 451.67821056, 815.10942222, 432.48272121,\n",
       "       428.09875923, 279.25394996, 267.97167376, 619.82079326,\n",
       "       877.3862879 , 858.18228677, 904.94098708, 505.66839533,\n",
       "       366.07236339, 860.81893847, 888.06469855, 491.49497592,\n",
       "       949.77784423, 457.8287424 , 289.43250918, 274.518336  ,\n",
       "       722.83510435,  66.81068353, 976.84148115, 767.4108445 ,\n",
       "        18.29793596,  41.19401141, 355.39898484,  85.00378169])"
      ]
     },
     "execution_count": 18,
     "metadata": {},
     "output_type": "execute_result"
    }
   ],
   "source": [
    "numpy_random_builtin * 1000"
   ]
  },
  {
   "cell_type": "code",
   "execution_count": 19,
   "metadata": {},
   "outputs": [
    {
     "data": {
      "text/plain": [
       "array([0.60872133, 0.58678921, 0.0788491 , 0.13626478, 0.67552122,\n",
       "       0.19398872, 0.08311666, 0.26273487, 0.24150452, 0.58973144,\n",
       "       0.71755984, 0.88708427, 0.83644858, 0.0278085 , 0.18990594,\n",
       "       0.45537494, 0.34999728, 0.72358202, 0.62336429, 0.24645001,\n",
       "       0.03309719, 0.49409085, 0.11245754, 0.26669248, 0.88599993,\n",
       "       0.26129075, 0.91000561, 0.82076961, 0.62519699, 0.13155614,\n",
       "       0.11222979, 0.94682718, 0.25533221, 0.92099649, 0.28020466,\n",
       "       0.66141605, 0.96855091, 0.08141411, 0.36204438, 0.48862492,\n",
       "       0.43473344, 0.60887841, 0.8688944 , 0.88643646, 0.6643738 ,\n",
       "       0.82980908, 0.55348152, 0.96806352, 0.9200499 , 0.87471619,\n",
       "       0.94556743, 0.578832  , 0.76957492, 0.66084451, 0.28374299,\n",
       "       0.68229005, 0.82829102, 0.7165369 , 0.33262799, 0.55888791,\n",
       "       0.93843986, 0.91941242, 0.59037755, 0.46959629, 0.77794556,\n",
       "       0.0562519 , 0.90269736, 0.33901907, 0.22345231, 0.07737253,\n",
       "       0.08608884, 0.82680719, 0.36075402, 0.45167821, 0.81510942,\n",
       "       0.43248272, 0.42809876, 0.27925395, 0.26797167, 0.61982079,\n",
       "       0.87738629, 0.85818229, 0.90494099, 0.5056684 , 0.36607236,\n",
       "       0.86081894, 0.8880647 , 0.49149498, 0.94977784, 0.45782874,\n",
       "       0.28943251, 0.27451834, 0.7228351 , 0.06681068, 0.97684148,\n",
       "       0.76741084, 0.01829794, 0.04119401, 0.35539898, 0.08500378])"
      ]
     },
     "execution_count": 19,
     "metadata": {},
     "output_type": "execute_result"
    }
   ],
   "source": [
    "numpy_random_builtin"
   ]
  },
  {
   "cell_type": "code",
   "execution_count": 20,
   "metadata": {},
   "outputs": [
    {
     "data": {
      "text/plain": [
       "array([6087, 5867,  788, 1362, 6755, 1939,  831, 2627, 2415, 5897, 7175,\n",
       "       8870, 8364,  278, 1899, 4553, 3499, 7235, 6233, 2464,  330, 4940,\n",
       "       1124, 2666, 8859, 2612, 9100, 8207, 6251, 1315, 1122, 9468, 2553,\n",
       "       9209, 2802, 6614, 9685,  814, 3620, 4886, 4347, 6088, 8688, 8864,\n",
       "       6643, 8298, 5534, 9680, 9200, 8747, 9455, 5788, 7695, 6608, 2837,\n",
       "       6822, 8282, 7165, 3326, 5588, 9384, 9194, 5903, 4695, 7779,  562,\n",
       "       9026, 3390, 2234,  773,  860, 8268, 3607, 4516, 8151, 4324, 4280,\n",
       "       2792, 2679, 6198, 8773, 8581, 9049, 5056, 3660, 8608, 8880, 4914,\n",
       "       9497, 4578, 2894, 2745, 7228,  668, 9768, 7674,  182,  411, 3553,\n",
       "        850])"
      ]
     },
     "execution_count": 20,
     "metadata": {},
     "output_type": "execute_result"
    }
   ],
   "source": [
    "np.asarray(numpy_random_builtin * 10000, dtype=int)"
   ]
  },
  {
   "cell_type": "code",
   "execution_count": null,
   "metadata": {},
   "outputs": [],
   "source": []
  },
  {
   "cell_type": "code",
   "execution_count": null,
   "metadata": {},
   "outputs": [],
   "source": []
  },
  {
   "cell_type": "code",
   "execution_count": null,
   "metadata": {},
   "outputs": [],
   "source": []
  }
 ],
 "metadata": {
  "kernelspec": {
   "display_name": "Python 3",
   "language": "python",
   "name": "python3"
  },
  "language_info": {
   "codemirror_mode": {
    "name": "ipython",
    "version": 3
   },
   "file_extension": ".py",
   "mimetype": "text/x-python",
   "name": "python",
   "nbconvert_exporter": "python",
   "pygments_lexer": "ipython3",
   "version": "3.7.3"
  }
 },
 "nbformat": 4,
 "nbformat_minor": 2
}
